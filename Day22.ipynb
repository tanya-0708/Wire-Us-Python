{
 "cells": [
  {
   "cell_type": "code",
   "execution_count": 4,
   "metadata": {},
   "outputs": [
    {
     "name": "stdin",
     "output_type": "stream",
     "text": [
      "Guess the num 32\n",
      "Guess the num 10992\n",
      "Guess the num 56\n",
      "Guess the num 1\n",
      "Guess the num 2\n"
     ]
    },
    {
     "name": "stdout",
     "output_type": "stream",
     "text": [
      "Better Luck Next Time\n",
      "Number was 37\n"
     ]
    }
   ],
   "source": [
    "import random\n",
    "n = random.randint(0,50)\n",
    "i=5\n",
    "f=0\n",
    "while(i>0):\n",
    "    x = int(input(\"Guess the num\"))\n",
    "    if(x==n):\n",
    "        print(i)\n",
    "        f=1\n",
    "        break\n",
    "    i=i-1\n",
    "if(f==0):\n",
    "    print(\"Better Luck Next Time\")\n",
    "    print(\"Number was\",n)"
   ]
  },
  {
   "cell_type": "code",
   "execution_count": null,
   "metadata": {},
   "outputs": [],
   "source": []
  }
 ],
 "metadata": {
  "kernelspec": {
   "display_name": "Python 3",
   "language": "python",
   "name": "python3"
  },
  "language_info": {
   "codemirror_mode": {
    "name": "ipython",
    "version": 3
   },
   "file_extension": ".py",
   "mimetype": "text/x-python",
   "name": "python",
   "nbconvert_exporter": "python",
   "pygments_lexer": "ipython3",
   "version": "3.7.6"
  }
 },
 "nbformat": 4,
 "nbformat_minor": 4
}
