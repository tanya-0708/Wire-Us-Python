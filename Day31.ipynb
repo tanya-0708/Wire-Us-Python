{
 "cells": [
  {
   "cell_type": "code",
   "execution_count": 4,
   "metadata": {},
   "outputs": [
    {
     "name": "stdin",
     "output_type": "stream",
     "text": [
      "Enter the number of times you want to run tcs 3\n",
      "Enter the number 123\n"
     ]
    },
    {
     "name": "stdout",
     "output_type": "stream",
     "text": [
      "Next plaindrome num is 131\n"
     ]
    },
    {
     "name": "stdin",
     "output_type": "stream",
     "text": [
      "Enter the number 1\n"
     ]
    },
    {
     "name": "stdout",
     "output_type": "stream",
     "text": [
      "Next plaindrome num is 2\n"
     ]
    },
    {
     "name": "stdin",
     "output_type": "stream",
     "text": [
      "Enter the number 781278\n"
     ]
    },
    {
     "name": "stdout",
     "output_type": "stream",
     "text": [
      "Next plaindrome num is 782287\n"
     ]
    }
   ],
   "source": [
    "import sys\n",
    "def Next_smallest_Palindrome(num):\n",
    "    numstr = str(num)\n",
    "    for i in range(num+1,sys.maxsize):\n",
    "        if str(i) == str(i)[::-1]:\n",
    "            return i\n",
    "\n",
    "t = int(input(\"Enter the number of times you want to run tcs\"))\n",
    "while(t):\n",
    "        n = int(input(\"Enter the number\"))\n",
    "        ans = Next_smallest_Palindrome(n)\n",
    "        print(\"Next plaindrome num is {}\".format(ans))\n",
    "        t=t-1\n",
    "        "
   ]
  },
  {
   "cell_type": "code",
   "execution_count": null,
   "metadata": {},
   "outputs": [],
   "source": []
  }
 ],
 "metadata": {
  "kernelspec": {
   "display_name": "Python 3",
   "language": "python",
   "name": "python3"
  },
  "language_info": {
   "codemirror_mode": {
    "name": "ipython",
    "version": 3
   },
   "file_extension": ".py",
   "mimetype": "text/x-python",
   "name": "python",
   "nbconvert_exporter": "python",
   "pygments_lexer": "ipython3",
   "version": "3.8.3"
  }
 },
 "nbformat": 4,
 "nbformat_minor": 4
}
