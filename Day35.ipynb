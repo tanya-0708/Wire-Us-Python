{
 "cells": [
  {
   "cell_type": "code",
   "execution_count": 3,
   "metadata": {},
   "outputs": [
    {
     "name": "stdin",
     "output_type": "stream",
     "text": [
      "1. Celsius to Fahrenheit \n",
      "2. Fahrenheit to Celsius  1\n",
      "Enter temperature :  15\n"
     ]
    },
    {
     "name": "stdout",
     "output_type": "stream",
     "text": [
      "15.0\n",
      "The temp in fahrenheit is  59.0\n"
     ]
    }
   ],
   "source": [
    "x = int(input(\"1. Celsius to Fahrenheit \\n2. Fahrenheit to Celsius \")) \n",
    "temp=float(input(\"Enter temperature : \")) \n",
    "print(temp)\n",
    "if x == 1: \n",
    "    t = (temp*9.0)/5.0 + 32 \n",
    "    print(\"The temp in fahrenheit is \",t) \n",
    "elif x == 2: \n",
    "    t = 5*(temp - 32.0)/9.0 \n",
    "    print(\"The temp in celsius is \",t) \n",
    "else: \n",
    "    print(\"Wrong Choice!!\")   "
   ]
  },
  {
   "cell_type": "code",
   "execution_count": null,
   "metadata": {},
   "outputs": [],
   "source": []
  }
 ],
 "metadata": {
  "kernelspec": {
   "display_name": "Python 3",
   "language": "python",
   "name": "python3"
  },
  "language_info": {
   "codemirror_mode": {
    "name": "ipython",
    "version": 3
   },
   "file_extension": ".py",
   "mimetype": "text/x-python",
   "name": "python",
   "nbconvert_exporter": "python",
   "pygments_lexer": "ipython3",
   "version": "3.8.3"
  }
 },
 "nbformat": 4,
 "nbformat_minor": 4
}
