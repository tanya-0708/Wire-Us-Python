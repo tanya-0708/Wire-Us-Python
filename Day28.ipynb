{
 "cells": [
  {
   "cell_type": "code",
   "execution_count": 1,
   "metadata": {},
   "outputs": [
    {
     "name": "stdout",
     "output_type": "stream",
     "text": [
      "1. Balance\n",
      "2. Withdraw\n",
      "3. Deposit\n",
      "4. Quit\n"
     ]
    },
    {
     "name": "stdin",
     "output_type": "stream",
     "text": [
      "Enter choice:  1\n"
     ]
    },
    {
     "name": "stdout",
     "output_type": "stream",
     "text": [
      "Total Balance 360000\n",
      "1. Balance\n",
      "2. Withdraw\n",
      "3. Deposit\n",
      "4. Quit\n"
     ]
    },
    {
     "name": "stdin",
     "output_type": "stream",
     "text": [
      "Enter choice:  3\n",
      "Enter amount to be deposited 1800\n"
     ]
    },
    {
     "name": "stdout",
     "output_type": "stream",
     "text": [
      "Total balance 361800\n",
      "1. Balance\n",
      "2. Withdraw\n",
      "3. Deposit\n",
      "4. Quit\n"
     ]
    },
    {
     "name": "stdin",
     "output_type": "stream",
     "text": [
      "Enter choice:  2\n",
      "How much do you want to withdraw 900\n"
     ]
    },
    {
     "name": "stdout",
     "output_type": "stream",
     "text": [
      "1. Balance\n",
      "2. Withdraw\n",
      "3. Deposit\n",
      "4. Quit\n"
     ]
    },
    {
     "name": "stdin",
     "output_type": "stream",
     "text": [
      "Enter choice:  1\n"
     ]
    },
    {
     "name": "stdout",
     "output_type": "stream",
     "text": [
      "Total Balance 360900\n",
      "1. Balance\n",
      "2. Withdraw\n",
      "3. Deposit\n",
      "4. Quit\n"
     ]
    },
    {
     "name": "stdin",
     "output_type": "stream",
     "text": [
      "Enter choice:  4\n"
     ]
    },
    {
     "name": "stdout",
     "output_type": "stream",
     "text": [
      "Exiting!\n",
      "1. Balance\n",
      "2. Withdraw\n",
      "3. Deposit\n",
      "4. Quit\n"
     ]
    },
    {
     "name": "stdin",
     "output_type": "stream",
     "text": [
      "Enter choice:  5\n"
     ]
    },
    {
     "name": "stdout",
     "output_type": "stream",
     "text": [
      "Invalid choice!!\n",
      "1. Balance\n",
      "2. Withdraw\n",
      "3. Deposit\n",
      "4. Quit\n"
     ]
    },
    {
     "name": "stdin",
     "output_type": "stream",
     "text": [
      "Enter choice:  0\n"
     ]
    },
    {
     "name": "stdout",
     "output_type": "stream",
     "text": [
      "Invalid choice!!\n"
     ]
    }
   ],
   "source": [
    "class ATM:\n",
    "  def __init__(self,balance):\n",
    "    self.balance = balance\n",
    "  def Balance(self):\n",
    "    print(\"Total Balance\", self.balance)\n",
    "  def Withdraw(self):\n",
    "    y=int(input(\"How much do you want to withdraw\"))\n",
    "    if(self.balance<y):\n",
    "        print(\"Not enough balance\")\n",
    "    else:\n",
    "        self.balance = self.balance - y\n",
    "  def Deposit(self):\n",
    "    y = int(input(\"Enter amount to be deposited\"))\n",
    "    self.balance = self.balance + y\n",
    "    print(\"Total balance\", self.balance)\n",
    "\n",
    "p1 = ATM(360000)\n",
    "choice=1\n",
    "while choice!=0:\n",
    "    \n",
    "    print(\"1. Balance\")\n",
    "    print(\"2. Withdraw\")\n",
    "    print(\"3. Deposit\")\n",
    "    print(\"4. Quit\")\n",
    "    choice=int(input(\"Enter choice: \"))\n",
    "    if choice==1:\n",
    "        p1.Balance()\n",
    "    elif choice==2:\n",
    "        p1.Withdraw()\n",
    "    elif choice==3:\n",
    "        p1.Deposit()\n",
    "    elif choice==4:\n",
    "        print(\"Exiting!\")\n",
    "    else:\n",
    "        print(\"Invalid choice!!\")\n"
   ]
  },
  {
   "cell_type": "code",
   "execution_count": null,
   "metadata": {},
   "outputs": [],
   "source": []
  }
 ],
 "metadata": {
  "kernelspec": {
   "display_name": "Python 3",
   "language": "python",
   "name": "python3"
  },
  "language_info": {
   "codemirror_mode": {
    "name": "ipython",
    "version": 3
   },
   "file_extension": ".py",
   "mimetype": "text/x-python",
   "name": "python",
   "nbconvert_exporter": "python",
   "pygments_lexer": "ipython3",
   "version": "3.8.3"
  }
 },
 "nbformat": 4,
 "nbformat_minor": 4
}
