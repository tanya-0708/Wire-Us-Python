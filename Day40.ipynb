{
 "cells": [
  {
   "cell_type": "code",
   "execution_count": 13,
   "metadata": {},
   "outputs": [],
   "source": [
    "import xlsxwriter\n",
    "\n",
    "workbook = xlsxwriter.Workbook('write_data.xlsx')\n",
    "worksheet = workbook.add_worksheet()\n",
    "\n",
    "worksheet.write(0, 0, 'The')  # Writes a string\n",
    "worksheet.write(0, 1, 'Wire US')     # Writes None\n",
    "worksheet.write(0, 2, 'Challenge')     # Writes a bool\n",
    "\n",
    "workbook.close()"
   ]
  },
  {
   "cell_type": "code",
   "execution_count": 16,
   "metadata": {},
   "outputs": [
    {
     "name": "stdout",
     "output_type": "stream",
     "text": [
      "The Wire US Challenge "
     ]
    }
   ],
   "source": [
    "import xlrd\n",
    "loc = (r\"C:\\Users\\Lenovo\\Desktop\\Pthon+ML\\write_data.xlsx\")\n",
    "wb = xlrd.open_workbook(loc)\n",
    "sheet = wb.sheet_by_index(0)\n",
    "print(sheet.cell_value(0,0),end = \" \")\n",
    "print(sheet.cell_value(0,1),end = \" \")\n",
    "print(sheet.cell_value(0,2),end = \" \")"
   ]
  },
  {
   "cell_type": "code",
   "execution_count": null,
   "metadata": {},
   "outputs": [],
   "source": []
  }
 ],
 "metadata": {
  "kernelspec": {
   "display_name": "Python 3",
   "language": "python",
   "name": "python3"
  },
  "language_info": {
   "codemirror_mode": {
    "name": "ipython",
    "version": 3
   },
   "file_extension": ".py",
   "mimetype": "text/x-python",
   "name": "python",
   "nbconvert_exporter": "python",
   "pygments_lexer": "ipython3",
   "version": "3.8.3"
  }
 },
 "nbformat": 4,
 "nbformat_minor": 4
}
