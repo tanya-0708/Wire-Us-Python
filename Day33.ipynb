{
 "cells": [
  {
   "cell_type": "code",
   "execution_count": 3,
   "metadata": {},
   "outputs": [
    {
     "name": "stdin",
     "output_type": "stream",
     "text": [
      "Enter Mail ID tanyabhardwaj@gmail.com\n"
     ]
    },
    {
     "name": "stdout",
     "output_type": "stream",
     "text": [
      "tanyabhardwaj@gmail.com\n",
      "Added in file successfully\n",
      "Do you want to continue?\n"
     ]
    },
    {
     "name": "stdin",
     "output_type": "stream",
     "text": [
      " 1\n",
      "Enter Mail ID prithatiwari@yahoo.in\n"
     ]
    },
    {
     "name": "stdout",
     "output_type": "stream",
     "text": [
      "prithatiwari@yahoo.in\n",
      "Not a gmail id\n",
      "Do you want to continue?\n"
     ]
    },
    {
     "name": "stdin",
     "output_type": "stream",
     "text": [
      " 1\n",
      "Enter Mail ID ananyagupta@gmail.com\n"
     ]
    },
    {
     "name": "stdout",
     "output_type": "stream",
     "text": [
      "ananyagupta@gmail.com\n",
      "Added in file successfully\n",
      "Do you want to continue?\n"
     ]
    },
    {
     "name": "stdin",
     "output_type": "stream",
     "text": [
      " 0\n"
     ]
    }
   ],
   "source": [
    "import re\n",
    "f = open(\"Allgmail.txt\",\"a\")\n",
    "ch=1\n",
    "while(ch):\n",
    "    s = input(\"Enter Mail ID\")\n",
    "    print(s)\n",
    "    x = re.search(\".gmail.com$\",s)\n",
    "    if (x):\n",
    "            f.write(s)\n",
    "            print(\"Added in file successfully\")\n",
    "    else:\n",
    "          print(\"Not a gmail id\")\n",
    "    print(\"Do you want to continue?\")\n",
    "    ch = int(input())\n",
    "f.close()    "
   ]
  },
  {
   "cell_type": "code",
   "execution_count": null,
   "metadata": {},
   "outputs": [],
   "source": []
  }
 ],
 "metadata": {
  "kernelspec": {
   "display_name": "Python 3",
   "language": "python",
   "name": "python3"
  },
  "language_info": {
   "codemirror_mode": {
    "name": "ipython",
    "version": 3
   },
   "file_extension": ".py",
   "mimetype": "text/x-python",
   "name": "python",
   "nbconvert_exporter": "python",
   "pygments_lexer": "ipython3",
   "version": "3.8.3"
  }
 },
 "nbformat": 4,
 "nbformat_minor": 4
}
