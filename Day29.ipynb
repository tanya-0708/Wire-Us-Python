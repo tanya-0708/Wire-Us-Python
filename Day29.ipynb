{
 "cells": [
  {
   "cell_type": "code",
   "execution_count": 6,
   "metadata": {},
   "outputs": [
    {
     "name": "stdin",
     "output_type": "stream",
     "text": [
      "Enter either 1.Age or 2.Date Of Birth 2\n",
      "Enter year 07/08/2000\n"
     ]
    },
    {
     "name": "stdout",
     "output_type": "stream",
     "text": [
      "you will be 100 in 2100 years\n"
     ]
    }
   ],
   "source": [
    "ch=int(input(\"Enter either 1.Age or 2.Date Of Birth\"))\n",
    "if(ch==1):\n",
    "    age = int(input(\"Enter Age\"))\n",
    "    age = 2020-age\n",
    "else:\n",
    "    oc=0\n",
    "    dob = input(\"Enter year\")\n",
    "    for i in range(0,len(dob)):\n",
    "        if(dob[i]==\"/\" or dob[i]==\".\"):\n",
    "            oc=oc+1\n",
    "            if(oc==2):\n",
    "                break;\n",
    "    age = dob[i+1:]  \n",
    "    age = int(age)\n",
    "print(\"you will be 100 in\",age+100,\"years\")\n",
    "\n"
   ]
  },
  {
   "cell_type": "code",
   "execution_count": null,
   "metadata": {},
   "outputs": [],
   "source": []
  }
 ],
 "metadata": {
  "kernelspec": {
   "display_name": "Python 3",
   "language": "python",
   "name": "python3"
  },
  "language_info": {
   "codemirror_mode": {
    "name": "ipython",
    "version": 3
   },
   "file_extension": ".py",
   "mimetype": "text/x-python",
   "name": "python",
   "nbconvert_exporter": "python",
   "pygments_lexer": "ipython3",
   "version": "3.8.3"
  }
 },
 "nbformat": 4,
 "nbformat_minor": 4
}
