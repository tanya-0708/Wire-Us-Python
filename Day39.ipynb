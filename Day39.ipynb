{
 "cells": [
  {
   "cell_type": "code",
   "execution_count": 3,
   "metadata": {},
   "outputs": [
    {
     "name": "stdout",
     "output_type": "stream",
     "text": [
      "   Sno      Name\n",
      "0    1     Arnav\n",
      "1    2    Bhavya\n",
      "2    3      Diya\n",
      "3    4  Darshana\n",
      "4    5    Pritha\n"
     ]
    }
   ],
   "source": [
    "import pandas as pd\n",
    "df = pd.read_csv(\"Book1.csv\")\n",
    "print(df)"
   ]
  },
  {
   "cell_type": "code",
   "execution_count": 2,
   "metadata": {},
   "outputs": [],
   "source": [
    "import xlrd"
   ]
  },
  {
   "cell_type": "code",
   "execution_count": 11,
   "metadata": {},
   "outputs": [
    {
     "name": "stdout",
     "output_type": "stream",
     "text": [
      "Name\n",
      "Arnav\n",
      "Bhavya\n",
      "Diya\n",
      "Darshana\n",
      "Pritha\n",
      "[3.0, 'Diya']\n"
     ]
    }
   ],
   "source": [
    "loc = (r\"C:\\Users\\Lenovo\\Desktop\\Pthon+ML\\Book1.xlsx\")\n",
    "wb = xlrd.open_workbook(loc)\n",
    "sheet = wb.sheet_by_index(0)\n",
    "sheet.cell_value(0,1)\n",
    "#second column values\n",
    "for i in range(sheet.nrows):\n",
    "    print(sheet.cell_value(i, 1))\n",
    "    \n",
    "#third row\n",
    "print(sheet.row_values(3))"
   ]
  },
  {
   "cell_type": "code",
   "execution_count": null,
   "metadata": {},
   "outputs": [],
   "source": []
  }
 ],
 "metadata": {
  "kernelspec": {
   "display_name": "Python 3",
   "language": "python",
   "name": "python3"
  },
  "language_info": {
   "codemirror_mode": {
    "name": "ipython",
    "version": 3
   },
   "file_extension": ".py",
   "mimetype": "text/x-python",
   "name": "python",
   "nbconvert_exporter": "python",
   "pygments_lexer": "ipython3",
   "version": "3.8.3"
  }
 },
 "nbformat": 4,
 "nbformat_minor": 4
}
