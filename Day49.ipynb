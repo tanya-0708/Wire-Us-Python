{
 "cells": [
  {
   "cell_type": "code",
   "execution_count": 4,
   "metadata": {},
   "outputs": [
    {
     "name": "stdout",
     "output_type": "stream",
     "text": [
      "          * \n",
      "          * \n",
      "          * \n",
      "  *       * \n",
      "  *   *   * \n",
      "  * * *   * \n",
      "* * * *   * \n",
      "* * * *   * \n",
      "* * * * * * \n"
     ]
    }
   ],
   "source": [
    "list1 = [3,6,4,5,1,9]\n",
    "max1 = max(list1)\n",
    "for i in range(0,max1):\n",
    "    for num in list1:\n",
    "        if num>=max1-i:\n",
    "            print(\"*\",end=\" \")\n",
    "        else:\n",
    "            print(\" \",end=\" \")\n",
    "    print(\"\")\n"
   ]
  },
  {
   "cell_type": "code",
   "execution_count": null,
   "metadata": {},
   "outputs": [],
   "source": []
  }
 ],
 "metadata": {
  "kernelspec": {
   "display_name": "Python 3",
   "language": "python",
   "name": "python3"
  },
  "language_info": {
   "codemirror_mode": {
    "name": "ipython",
    "version": 3
   },
   "file_extension": ".py",
   "mimetype": "text/x-python",
   "name": "python",
   "nbconvert_exporter": "python",
   "pygments_lexer": "ipython3",
   "version": "3.8.3"
  }
 },
 "nbformat": 4,
 "nbformat_minor": 4
}
