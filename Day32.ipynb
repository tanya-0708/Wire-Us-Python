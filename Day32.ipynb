{
 "cells": [
  {
   "cell_type": "code",
   "execution_count": 3,
   "metadata": {},
   "outputs": [
    {
     "name": "stdin",
     "output_type": "stream",
     "text": [
      "Enter the first name:  Nikshubha Singh\n",
      "Enter the second name:  Tanya Bhardwaj\n"
     ]
    },
    {
     "name": "stdout",
     "output_type": "stream",
     "text": [
      "Congratulations, you are a best friend!\n",
      "Friendship score =  124\n"
     ]
    }
   ],
   "source": [
    "def Cal_Score(str): \n",
    "    score=0;\n",
    "    vowels = \"aeiouAEIOU\"\n",
    "    friends=\"friendsFRIENDS\"\n",
    "    for alphabet in str:\n",
    "        if alphabet in vowels: \n",
    "            score=score+5\n",
    "        elif alphabet in friends:\n",
    "            score=score+10\n",
    "        else:\n",
    "            score=score+1\n",
    "    return score\n",
    "\n",
    "\n",
    "name1=input(\"Enter the first name: \")\n",
    "name2=input(\"Enter the second name: \")\n",
    "\n",
    "score = Cal_Score(name1) + Cal_Score(name2);\n",
    "if score>100:\n",
    "    print(\"Congratulations, you are a best friend!\")\n",
    "    print(\"Friendship score = \",score)\n",
    "else:\n",
    "    print(\"Friendship score = \",score)"
   ]
  },
  {
   "cell_type": "code",
   "execution_count": null,
   "metadata": {},
   "outputs": [],
   "source": []
  }
 ],
 "metadata": {
  "kernelspec": {
   "display_name": "Python 3",
   "language": "python",
   "name": "python3"
  },
  "language_info": {
   "codemirror_mode": {
    "name": "ipython",
    "version": 3
   },
   "file_extension": ".py",
   "mimetype": "text/x-python",
   "name": "python",
   "nbconvert_exporter": "python",
   "pygments_lexer": "ipython3",
   "version": "3.8.3"
  }
 },
 "nbformat": 4,
 "nbformat_minor": 4
}
