{
 "cells": [
  {
   "cell_type": "code",
   "execution_count": 5,
   "metadata": {},
   "outputs": [
    {
     "data": {
      "text/plain": [
       "[[0.07983684114267997,\n",
       "  0.5797442213554005,\n",
       "  0.015236003918717378,\n",
       "  0.9583211503037363,\n",
       "  0.7790711137555314],\n",
       " [0.5648365122969123,\n",
       "  0.6949784882161509,\n",
       "  0.6202108942269896,\n",
       "  0.7620983176190145,\n",
       "  0.4943110163745058],\n",
       " [0.06525060319797027,\n",
       "  0.2568816340268669,\n",
       "  0.9507226013330996,\n",
       "  0.9556206019248594,\n",
       "  0.174458838351781],\n",
       " [0.9616311706284202,\n",
       "  0.5403831735595771,\n",
       "  0.5536881982534358,\n",
       "  0.9673187557639352,\n",
       "  0.02768812895743944]]"
      ]
     },
     "execution_count": 5,
     "metadata": {},
     "output_type": "execute_result"
    }
   ],
   "source": [
    "import random\n",
    "N=4\n",
    "M=5\n",
    "[[random.random() for i in range(M)] for j in range(N)]"
   ]
  },
  {
   "cell_type": "code",
   "execution_count": 6,
   "metadata": {},
   "outputs": [
    {
     "name": "stdout",
     "output_type": "stream",
     "text": [
      "[[633 430 366 607 343]\n",
      " [943 830 867 925 176]\n",
      " [819 849 619 306 361]\n",
      " [890 274 929 846 273]]\n"
     ]
    }
   ],
   "source": [
    "import numpy as np\n",
    "import random\n",
    "array = np.random.randint(1,1000,size=(4,5))\n",
    "print(array)"
   ]
  },
  {
   "cell_type": "code",
   "execution_count": null,
   "metadata": {},
   "outputs": [],
   "source": []
  }
 ],
 "metadata": {
  "kernelspec": {
   "display_name": "Python 3",
   "language": "python",
   "name": "python3"
  },
  "language_info": {
   "codemirror_mode": {
    "name": "ipython",
    "version": 3
   },
   "file_extension": ".py",
   "mimetype": "text/x-python",
   "name": "python",
   "nbconvert_exporter": "python",
   "pygments_lexer": "ipython3",
   "version": "3.8.3"
  }
 },
 "nbformat": 4,
 "nbformat_minor": 4
}
