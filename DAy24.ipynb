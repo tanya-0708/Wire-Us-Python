{
 "cells": [
  {
   "cell_type": "code",
   "execution_count": 2,
   "metadata": {},
   "outputs": [
    {
     "name": "stdout",
     "output_type": "stream",
     "text": [
      "1. Display Book\n",
      "2. Add Book\n",
      "3. Lend Book\n",
      "4. Return Book\n",
      "5. Exit\n"
     ]
    },
    {
     "name": "stdin",
     "output_type": "stream",
     "text": [
      "Enter choice:  1\n"
     ]
    },
    {
     "name": "stdout",
     "output_type": "stream",
     "text": [
      "The Great Gatsby\n",
      "None\n",
      "Hippie\n",
      "None\n",
      "Kite Runner\n",
      "None\n",
      "1. Display Book\n",
      "2. Add Book\n",
      "3. Lend Book\n",
      "4. Return Book\n",
      "5. Exit\n"
     ]
    },
    {
     "name": "stdin",
     "output_type": "stream",
     "text": [
      "Enter choice:  2\n",
      "Enter Name of Book Cool\n"
     ]
    },
    {
     "name": "stdout",
     "output_type": "stream",
     "text": [
      "1. Display Book\n",
      "2. Add Book\n",
      "3. Lend Book\n",
      "4. Return Book\n",
      "5. Exit\n"
     ]
    },
    {
     "name": "stdin",
     "output_type": "stream",
     "text": [
      "Enter choice:  1\n"
     ]
    },
    {
     "name": "stdout",
     "output_type": "stream",
     "text": [
      "The Great Gatsby\n",
      "None\n",
      "Hippie\n",
      "None\n",
      "Kite Runner\n",
      "None\n",
      "1. Display Book\n",
      "2. Add Book\n",
      "3. Lend Book\n",
      "4. Return Book\n",
      "5. Exit\n"
     ]
    },
    {
     "name": "stdin",
     "output_type": "stream",
     "text": [
      "Enter choice:  3\n",
      "Enter your name Tanya\n",
      "Enter the name of book Hippie\n"
     ]
    },
    {
     "name": "stdout",
     "output_type": "stream",
     "text": [
      "1. Display Book\n",
      "2. Add Book\n",
      "3. Lend Book\n",
      "4. Return Book\n",
      "5. Exit\n"
     ]
    },
    {
     "name": "stdin",
     "output_type": "stream",
     "text": [
      "Enter choice:  1\n"
     ]
    },
    {
     "name": "stdout",
     "output_type": "stream",
     "text": [
      "The Great Gatsby\n",
      "None\n",
      "Hippie\n",
      "Tanya\n",
      "Kite Runner\n",
      "None\n",
      "1. Display Book\n",
      "2. Add Book\n",
      "3. Lend Book\n",
      "4. Return Book\n",
      "5. Exit\n"
     ]
    },
    {
     "name": "stdin",
     "output_type": "stream",
     "text": [
      "Enter choice:  4\n",
      "Enter name pf book to be returned Hippie\n"
     ]
    },
    {
     "name": "stdout",
     "output_type": "stream",
     "text": [
      "1. Display Book\n",
      "2. Add Book\n",
      "3. Lend Book\n",
      "4. Return Book\n",
      "5. Exit\n"
     ]
    },
    {
     "name": "stdin",
     "output_type": "stream",
     "text": [
      "Enter choice:  1\n"
     ]
    },
    {
     "name": "stdout",
     "output_type": "stream",
     "text": [
      "The Great Gatsby\n",
      "None\n",
      "Hippie\n",
      "None\n",
      "Kite Runner\n",
      "None\n",
      "1. Display Book\n",
      "2. Add Book\n",
      "3. Lend Book\n",
      "4. Return Book\n",
      "5. Exit\n"
     ]
    },
    {
     "name": "stdin",
     "output_type": "stream",
     "text": [
      "Enter choice:  5\n"
     ]
    },
    {
     "name": "stdout",
     "output_type": "stream",
     "text": [
      "Exiting!\n",
      "1. Display Book\n",
      "2. Add Book\n",
      "3. Lend Book\n",
      "4. Return Book\n",
      "5. Exit\n"
     ]
    },
    {
     "name": "stdin",
     "output_type": "stream",
     "text": [
      "Enter choice:  0\n"
     ]
    },
    {
     "name": "stdout",
     "output_type": "stream",
     "text": [
      "Invalid choice!!\n"
     ]
    }
   ],
   "source": [
    "class Person:\n",
    "  def __init__(self, book):\n",
    "    self.book = book\n",
    "\n",
    "  def myfunc(self):\n",
    "    for x in self.book:\n",
    "        print(x)\n",
    "        print(self.book[x])\n",
    "        \n",
    "  def add_book(self):\n",
    "    name = input(\"Enter Name of Book\")\n",
    "    self.book[name]:'None'\n",
    "    \n",
    "  def lend_book(self):\n",
    "    your_name = input(\"Enter your name\")\n",
    "    name = input(\"Enter the name of book\")\n",
    "    if(self.book[name]=='None'):\n",
    "        self.book[name] = your_name\n",
    "    elif(self.book[name]==your_name):\n",
    "        print(\"You already have it\")\n",
    "    else:\n",
    "        print(self.book[name],\"has the book\")\n",
    "        \n",
    "  def return_book(self):\n",
    "    name = input(\"Enter name pf book to be returned\")\n",
    "    self.book[name]='None'\n",
    "\n",
    "book = {\n",
    "            'The Great Gatsby': 'None',\n",
    "            'Hippie': 'None',\n",
    "            'Kite Runner': 'None'\n",
    "}\n",
    "p1 = Person(book)\n",
    "choice=1\n",
    "while choice!=0:\n",
    "    \n",
    "    print(\"1. Display Book\")\n",
    "    print(\"2. Add Book\")\n",
    "    print(\"3. Lend Book\")\n",
    "    print(\"4. Return Book\")\n",
    "    print(\"5. Exit\")\n",
    "    choice=int(input(\"Enter choice: \"))\n",
    "    if choice==1:\n",
    "        p1.myfunc()\n",
    "    elif choice==2:\n",
    "        p1.add_book()\n",
    "    elif choice==3:\n",
    "        p1.lend_book()\n",
    "    elif choice==4:\n",
    "        p1.return_book()\n",
    "    elif choice==5:\n",
    "        print(\"Exiting!\")\n",
    "    else:\n",
    "        print(\"Invalid choice!!\")\n"
   ]
  },
  {
   "cell_type": "code",
   "execution_count": null,
   "metadata": {},
   "outputs": [],
   "source": []
  }
 ],
 "metadata": {
  "kernelspec": {
   "display_name": "Python 3",
   "language": "python",
   "name": "python3"
  },
  "language_info": {
   "codemirror_mode": {
    "name": "ipython",
    "version": 3
   },
   "file_extension": ".py",
   "mimetype": "text/x-python",
   "name": "python",
   "nbconvert_exporter": "python",
   "pygments_lexer": "ipython3",
   "version": "3.8.3"
  }
 },
 "nbformat": 4,
 "nbformat_minor": 4
}
