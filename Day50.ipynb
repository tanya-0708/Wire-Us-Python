{
 "cells": [
  {
   "cell_type": "code",
   "execution_count": 2,
   "metadata": {},
   "outputs": [
    {
     "name": "stdout",
     "output_type": "stream",
     "text": [
      "[[590 861 365 726 683 962 923 568 426]\n",
      " [317 595 208 717 640 299  24 782 368]\n",
      " [603 217 811 748 569   7 578 707 946]\n",
      " [  9 957 603 314 686 778 191 199 811]]\n",
      "[array([[590, 861, 365],\n",
      "       [317, 595, 208],\n",
      "       [603, 217, 811],\n",
      "       [  9, 957, 603]]), array([[726, 683, 962],\n",
      "       [717, 640, 299],\n",
      "       [748, 569,   7],\n",
      "       [314, 686, 778]]), array([[923, 568, 426],\n",
      "       [ 24, 782, 368],\n",
      "       [578, 707, 946],\n",
      "       [191, 199, 811]])] "
     ]
    }
   ],
   "source": [
    "import numpy as np\n",
    "import random\n",
    "array = np.random.randint(1,1000,size=(4,9))\n",
    "print(array)\n",
    "s_a = np.hsplit(array,3)\n",
    "print(s_a)"
   ]
  },
  {
   "cell_type": "code",
   "execution_count": null,
   "metadata": {},
   "outputs": [],
   "source": []
  }
 ],
 "metadata": {
  "kernelspec": {
   "display_name": "Python 3",
   "language": "python",
   "name": "python3"
  },
  "language_info": {
   "codemirror_mode": {
    "name": "ipython",
    "version": 3
   },
   "file_extension": ".py",
   "mimetype": "text/x-python",
   "name": "python",
   "nbconvert_exporter": "python",
   "pygments_lexer": "ipython3",
   "version": "3.8.3"
  }
 },
 "nbformat": 4,
 "nbformat_minor": 4
}
